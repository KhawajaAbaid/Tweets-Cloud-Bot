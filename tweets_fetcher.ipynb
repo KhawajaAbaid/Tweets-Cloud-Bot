{
 "cells": [
  {
   "cell_type": "code",
   "execution_count": 3,
   "metadata": {},
   "outputs": [],
   "source": [
    "from pytwitter import Api\n",
    "import configparser"
   ]
  },
  {
   "cell_type": "code",
   "execution_count": 80,
   "metadata": {},
   "outputs": [
    {
     "data": {
      "text/plain": [
       "['classified_configs.ini']"
      ]
     },
     "execution_count": 80,
     "metadata": {},
     "output_type": "execute_result"
    }
   ],
   "source": [
    "config = configparser.ConfigParser()\n",
    "config.read(\"classified_configs.ini\")"
   ]
  },
  {
   "cell_type": "code",
   "execution_count": 81,
   "metadata": {},
   "outputs": [],
   "source": [
    "api = Api(bearer_token=f\"{config['twitter-app-data']['bearer']}\")"
   ]
  },
  {
   "cell_type": "code",
   "execution_count": 83,
   "metadata": {},
   "outputs": [],
   "source": [
    "# api = Api(\n",
    "#     consumer_key=f\"{config['twitter-data']['consumer_key']}\",\n",
    "#     consumer_secret=f\"{config['twitter-data']['consumer_secret']}\",\n",
    "#     access_token=f\"{config['twitter-data']['access_token']}\",\n",
    "#     access_secret=f\"{config['twitter-data']['access_token_secret']}\"\n",
    "# )\n",
    "api = Api(\n",
    "    consumer_key=f\"{config['twitter-app-data']['consumer_key']}\",\n",
    "    consumer_secret=f\"{config['twitter-app-data']['consumer_secret']}\",\n",
    "    oauth_flow=True\n",
    ")"
   ]
  },
  {
   "cell_type": "code",
   "execution_count": 84,
   "metadata": {},
   "outputs": [
    {
     "data": {
      "text/plain": [
       "'https://api.twitter.com/oauth/authorize?oauth_token=f8-xbwAAAAABbtyxAAABgaTgGs8'"
      ]
     },
     "execution_count": 84,
     "metadata": {},
     "output_type": "execute_result"
    }
   ],
   "source": [
    "api.get_authorize_url()"
   ]
  },
  {
   "cell_type": "code",
   "execution_count": null,
   "metadata": {},
   "outputs": [],
   "source": [
    "twi"
   ]
  },
  {
   "cell_type": "code",
   "execution_count": 38,
   "metadata": {},
   "outputs": [],
   "source": [
    "user = api.get_user(username=\"KhawajaAbaid\")"
   ]
  },
  {
   "cell_type": "code",
   "execution_count": 71,
   "metadata": {},
   "outputs": [],
   "source": [
    "user2 = api.get_user(username=\"maxxpool\")"
   ]
  },
  {
   "cell_type": "code",
   "execution_count": 72,
   "metadata": {},
   "outputs": [
    {
     "data": {
      "text/plain": [
       "Response(data=User(id='1276924677995278337', name='MaxxPool', username='maxxpool'))"
      ]
     },
     "execution_count": 72,
     "metadata": {},
     "output_type": "execute_result"
    }
   ],
   "source": [
    "user2"
   ]
  },
  {
   "cell_type": "code",
   "execution_count": null,
   "metadata": {},
   "outputs": [],
   "source": [
    "maxx_tweets = api.get_timelines(user_id=\"1276924677995278337\", max_results=100)\n",
    "maxx_tweets"
   ]
  },
  {
   "cell_type": "code",
   "execution_count": 65,
   "metadata": {},
   "outputs": [
    {
     "data": {
      "text/plain": [
       "99"
      ]
     },
     "execution_count": 65,
     "metadata": {},
     "output_type": "execute_result"
    }
   ],
   "source": [
    "len(my_tweets.data)"
   ]
  },
  {
   "cell_type": "code",
   "execution_count": 68,
   "metadata": {},
   "outputs": [],
   "source": [
    "tweets_list = my_tweets.data"
   ]
  },
  {
   "cell_type": "code",
   "execution_count": 70,
   "metadata": {},
   "outputs": [
    {
     "data": {
      "text/plain": [
       "\"@Mors0mnibus haha not talking about myself here. It's just a general thing I've observed.\""
      ]
     },
     "execution_count": 70,
     "metadata": {},
     "output_type": "execute_result"
    }
   ],
   "source": [
    "tweets_list[0].text"
   ]
  },
  {
   "cell_type": "code",
   "execution_count": 57,
   "metadata": {},
   "outputs": [
    {
     "data": {
      "text/plain": [
       "'President Volodymyr Zelensky addressed the leaders of the Group of 7 nations on Monday. In what was likely a preview of his speech, Zelensky said on Sunday that the leaders had the power to stop Russian aggression against Ukraine. https://t.co/DZxGTWYD3o'"
      ]
     },
     "execution_count": 57,
     "metadata": {},
     "output_type": "execute_result"
    }
   ],
   "source": []
  },
  {
   "cell_type": "code",
   "execution_count": null,
   "metadata": {},
   "outputs": [],
   "source": []
  }
 ],
 "metadata": {
  "kernelspec": {
   "display_name": "Python 3.9.12 ('base')",
   "language": "python",
   "name": "python3"
  },
  "language_info": {
   "codemirror_mode": {
    "name": "ipython",
    "version": 3
   },
   "file_extension": ".py",
   "mimetype": "text/x-python",
   "name": "python",
   "nbconvert_exporter": "python",
   "pygments_lexer": "ipython3",
   "version": "3.9.12"
  },
  "orig_nbformat": 4,
  "vscode": {
   "interpreter": {
    "hash": "9b16f958606a7247fd2ba2750d9cad997c4b7c59ceec8c9b087db87db2a39d64"
   }
  }
 },
 "nbformat": 4,
 "nbformat_minor": 2
}
